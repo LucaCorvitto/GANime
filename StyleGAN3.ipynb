{
 "cells": [
  {
   "cell_type": "code",
   "execution_count": null,
   "metadata": {},
   "outputs": [],
   "source": [
    "# Install dependencies and clone StyleGAN3\n",
    "\n",
    "! pip install torch==1.9.0 torchvision==0.10.0\n",
    "! git clone https://github.com/NVlabs/stylegan3.git\n",
    "#!pip install ninja"
   ]
  },
  {
   "cell_type": "markdown",
   "metadata": {},
   "source": [
    "# Setting up folders' names"
   ]
  },
  {
   "cell_type": "code",
   "execution_count": null,
   "metadata": {},
   "outputs": [],
   "source": [
    "import os\n",
    "\n",
    "# Change this to your dataset folder name\n",
    "RAW_DATASET_FOLDER_NAME = \"dataset\"\n",
    "\n",
    "\n",
    "STYLEGAN_ROOT_FOLDER = \"my_stylegan3\"\n",
    "RAW_DATASET_PATH = os.path.join(STYLEGAN_ROOT_FOLDER, \"images\", RAW_DATASET_FOLDER_NAME)\n",
    "ZIP_DATASET_PATH = os.path.join(STYLEGAN_ROOT_FOLDER, \"datasets\", RAW_DATASET_FOLDER_NAME + \".zip\")\n",
    "EXPERIMENTS_PATH = os.path.join(STYLEGAN_ROOT_FOLDER, \"experiments\")"
   ]
  },
  {
   "cell_type": "markdown",
   "metadata": {},
   "source": [
    "# Creating a zipped Dataset"
   ]
  },
  {
   "cell_type": "code",
   "execution_count": null,
   "metadata": {},
   "outputs": [],
   "source": [
    "dataset_creation_cmd = f\"python stylegan3-main/dataset_tool.py --source={RAW_DATASET_PATH} --dest={ZIP_DATASET_PATH} --resolution=64x64\"\n",
    "!{dataset_creation_cmd}"
   ]
  },
  {
   "cell_type": "markdown",
   "metadata": {},
   "source": [
    "# Parameters and running"
   ]
  },
  {
   "cell_type": "code",
   "execution_count": null,
   "metadata": {},
   "outputs": [],
   "source": [
    "import os\n",
    "\n",
    "# Modify these to suit your needs\n",
    "CFG = \"stylegan3-t\"\n",
    "BATCH_SIZE = 8\n",
    "BATCH_GPU = 4\n",
    "GAMMA = 0.5\n",
    "SNAP = 1\n",
    "\n",
    "# Build the command and run it\n",
    "#cmd = f\"/usr/bin/python3 /content/stylegan3/train.py --outdir={EXPERIMENTS_PATH} --data={ZIP_DATASET_PATH} --cfg={CFG} --gpus=1 --workers=1 --batch={BATCH_SIZE} --batch-gpu={BATCH_GPU} --gamma={GAMMA} --snap={SNAP}\"\n",
    "cmd = f\"python stylegan3-main/train.py --outdir={EXPERIMENTS_PATH} --data={ZIP_DATASET_PATH} --cfg={CFG} --gpus=1 --workers=1 --batch={BATCH_SIZE} --batch-gpu={BATCH_GPU} --gamma={GAMMA} --metrics=none --snap={SNAP}\"\n",
    "!{cmd}"
   ]
  },
  {
   "cell_type": "markdown",
   "metadata": {},
   "source": [
    "# Resume Training"
   ]
  },
  {
   "cell_type": "code",
   "execution_count": null,
   "metadata": {},
   "outputs": [],
   "source": [
    "# Resume Training\n",
    "\n",
    "import os\n",
    "\n",
    "# Modify these to suit your needs\n",
    "CHECKPOINT_FOLDER = \"00005-stylegan3-t-dataset-gpus1-batch8-gamma0.5\"\n",
    "NETWORK = \"network-snapshot-000020.pkl\"\n",
    "RESUME = os.path.join(EXPERIMENTS_PATH, CHECKPOINT_FOLDER, NETWORK)\n",
    "\n",
    "# Modify these to suit your needs\n",
    "CFG = \"stylegan3-t\"\n",
    "BATCH_SIZE = 8\n",
    "BATCH_GPU = 4\n",
    "GAMMA = 0.5\n",
    "SNAP = 1\n",
    "\n",
    "# Build the command and run it\n",
    "cmd = f\"python stylegan3-main/train.py --resume={RESUME} --outdir={EXPERIMENTS_PATH} --data={ZIP_DATASET_PATH} --cfg={CFG} --gpus=1 --workers=1 --batch={BATCH_SIZE} --batch-gpu={BATCH_GPU} --gamma={GAMMA} --metrics=none --snap={SNAP}\"\n",
    "!{cmd}"
   ]
  }
 ],
 "metadata": {
  "language_info": {
   "name": "python"
  },
  "orig_nbformat": 4
 },
 "nbformat": 4,
 "nbformat_minor": 2
}
